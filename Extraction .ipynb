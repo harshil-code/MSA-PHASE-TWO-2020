{
 "cells": [
  {
   "cell_type": "code",
   "execution_count": 2,
   "metadata": {},
   "outputs": [],
   "source": [
    "import datetime\n",
    "\n",
    "import praw\n",
    "import pandas as pd\n",
    "\n",
    "from keys import client_id, client_secret"
   ]
  },
  {
   "cell_type": "code",
   "execution_count": 3,
   "metadata": {},
   "outputs": [],
   "source": [
    "reddit = praw.Reddit( client_id=client_id,\n",
    "                      client_secret=client_secret,\n",
    "                      user_agent='android:my_app:v1 (by /u/OgHaircut)')"
   ]
  },
  {
   "cell_type": "code",
   "execution_count": 4,
   "metadata": {},
   "outputs": [],
   "source": [
    "tesla = reddit.subreddit('TeslaMotors')\n",
    "\n",
    "#Gathering the top 500 posts, with their title, url, body, upvotes, timestamp, and an index that serves as a key between the\n",
    "#posts and the comments we collect later\n",
    "posts = []\n",
    "for index, post in enumerate(tesla.top(limit=10)):\n",
    "    posts.append([post.title, \"https://www.reddit.com\" + post.permalink, post.selftext, post.score, post.created_utc, index])\n",
    "\n",
    "#Converting into DataFrame\n",
    "posts = pd.DataFrame(posts, columns=['Title', 'URL', 'Body', 'Upvotes', 'Time', 'Key'])\n",
    "#Changing from utc time to standard timestamp\n",
    "posts.Time = posts.Time.apply(lambda x: pd.to_datetime(datetime.datetime.fromtimestamp(x)))\n",
    "\n",
    "#The first post is a sticky, so we can drop it\n",
    "posts = posts.iloc[1:]"
   ]
  },
  {
   "cell_type": "code",
   "execution_count": 5,
   "metadata": {},
   "outputs": [],
   "source": [
    "def collect_replies(key, url):\n",
    "    ''' \n",
    "    params pandas series row: each row of the dataframe we built above in the form of a panda series\n",
    "    Returns a pandas DataFrame, where each row represents an individual comment\n",
    "    '''\n",
    "    submission = reddit.submission(url=url)\n",
    "    submission.comments.replace_more(limit=None)\n",
    "    comment_queue = submission.comments[:] \n",
    "\n",
    "    table = {'Reply':[], 'Upvote':[], 'Time':[], 'Key':[]}\n",
    "\n",
    "    while comment_queue:\n",
    "        comment = comment_queue.pop(0)\n",
    "        table['Reply'].append(comment.body)\n",
    "        table['Time'].append(comment.created_utc)\n",
    "        table['Upvote'].append(comment.score)\n",
    "        table['Key'].append(key)\n",
    "        comment_queue.extend(comment.replies)\n",
    "    \n",
    "    return pd.DataFrame.from_dict(table)"
   ]
  },
  {
   "cell_type": "code",
   "execution_count": 6,
   "metadata": {},
   "outputs": [],
   "source": [
    "#Let us first generate a list of tupules that contains the key and url for each row - the first value of the tupule is key,\n",
    "#and the second value is url\n",
    "keys = posts.Key.tolist()\n",
    "urls = posts.URL.tolist()\n",
    "tupules = list(zip(keys, urls))\n",
    "\n",
    "#Now we generate our comments dataframe using list comprehensions!\n",
    "comments = pd.concat([collect_replies(x[0], x[1]) for x in tupules])"
   ]
  },
  {
   "cell_type": "code",
   "execution_count": 7,
   "metadata": {},
   "outputs": [],
   "source": [
    "comments.Time = comments.Time.apply(lambda x: pd.to_datetime(datetime.datetime.fromtimestamp(x)))"
   ]
  },
  {
   "cell_type": "code",
   "execution_count": 8,
   "metadata": {},
   "outputs": [],
   "source": [
    "comments.to_csv('Comments_.csv', index=False)\n",
    "posts.to_csv('Posts.csv', index=False)"
   ]
  },
  {
   "cell_type": "code",
   "execution_count": null,
   "metadata": {},
   "outputs": [],
   "source": [
    "re.sub(r'\\(?http\\S+', '', )"
   ]
  }
 ],
 "metadata": {
  "kernelspec": {
   "display_name": "Python 3",
   "language": "python",
   "name": "python3"
  },
  "language_info": {
   "codemirror_mode": {
    "name": "ipython",
    "version": 3
   },
   "file_extension": ".py",
   "mimetype": "text/x-python",
   "name": "python",
   "nbconvert_exporter": "python",
   "pygments_lexer": "ipython3",
   "version": "3.8.3"
  }
 },
 "nbformat": 4,
 "nbformat_minor": 4
}
